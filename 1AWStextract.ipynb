{
 "cells": [
  {
   "cell_type": "markdown",
   "metadata": {},
   "source": [
    "\n",
    "#1.) En la terminal: pip install awscli\n",
    "\n",
    "#2.) aws configure\n",
    "\n",
    "#https://boto3.amazonaws.com/v1/documentation/api/1.9.42/guide/quickstart.html\n",
    "\n",
    "#------------------------------------------------#\n",
    "\n",
    "#import pdf2image\n",
    "\n",
    "#usa poppler instalarlo en el path\n",
    "\n",
    "#http://blog.alivate.com.au/poppler-windows/\n",
    "\n",
    "Anadir al sistema: \n",
    "\n",
    "#https://www.thetopsites.net/article/53960829.shtml"
   ]
  },
  {
   "cell_type": "markdown",
   "metadata": {},
   "source": [
    "__1. LECTURA LISTA DE DOCUMENTOS__"
   ]
  },
  {
   "cell_type": "code",
   "execution_count": 437,
   "metadata": {},
   "outputs": [],
   "source": [
    "import glob\n",
    "\n",
    "docs_pdf =  glob.glob('../Info para entregar/*.pdf')  #glob.glob(\"i/*.pdf\")"
   ]
  },
  {
   "cell_type": "code",
   "execution_count": 438,
   "metadata": {},
   "outputs": [
    {
     "data": {
      "text/plain": [
       "'../Info para entregar\\\\Doc31.pdf'"
      ]
     },
     "execution_count": 438,
     "metadata": {},
     "output_type": "execute_result"
    }
   ],
   "source": [
    "docs_pdf[24]"
   ]
  },
  {
   "cell_type": "code",
   "execution_count": 439,
   "metadata": {},
   "outputs": [],
   "source": [
    "#guardar el response\n",
    "import pickle\n",
    "f = open(\"ejemplos_estados_financieros/nombresdoc.pkl\",\"wb\")\n",
    "pickle.dump(docs_pdf,f)\n",
    "f.close()"
   ]
  },
  {
   "cell_type": "markdown",
   "metadata": {},
   "source": [
    "__2. PASAR A JGE  - BITS__"
   ]
  },
  {
   "cell_type": "code",
   "execution_count": 3,
   "metadata": {},
   "outputs": [],
   "source": [
    "from pdf2image import convert_from_bytes\n",
    "\n",
    "#---------------------------------------------#\n",
    "#Función: READ PDF TO BYTES\n",
    "#input: Lista de ubicación de pdf\n",
    "#output: Read pdf.\n",
    "#---------------------------------------------#\n",
    "\n",
    "def pdf_to_bytes(Lista_pdf):\n",
    "    list_pdfBytes = []\n",
    "    for pdf in range(len(Lista_pdf)):\n",
    "        imagesBytes =[]\n",
    "        images = convert_from_bytes(open(Lista_pdf[pdf], 'rb').read())\n",
    "        for ii in range(len(images)):\n",
    "            documentName = 'ejemplos_estados_financieros/temp_file.png'\n",
    "            #------------------------------#\n",
    "            #llamar la funcion de limpieza de imagen\n",
    "            #------------------------------#\n",
    "            images[ii].save(documentName)\n",
    "            # Read document content\n",
    "            with open(documentName, 'rb') as document:\n",
    "                imBytes = bytearray(document.read())\n",
    "            #concatenar\n",
    "            imagesBytes.append(imBytes)\n",
    "        #concatenasr pdf to bytes\n",
    "        list_pdfBytes.append(imagesBytes)\n",
    "    #return\n",
    "    return list_pdfBytes\n"
   ]
  },
  {
   "cell_type": "code",
   "execution_count": 19,
   "metadata": {},
   "outputs": [
    {
     "name": "stdout",
     "output_type": "stream",
     "text": [
      "Wall time: 1min 51s\n"
     ]
    }
   ],
   "source": [
    "%%time\n",
    "\n",
    "PDFBytes = pdf_to_bytes(Lista_pdf=docs_pdf)"
   ]
  },
  {
   "cell_type": "code",
   "execution_count": 27,
   "metadata": {},
   "outputs": [
    {
     "name": "stdout",
     "output_type": "stream",
     "text": [
      "50\n",
      "50\n",
      "3\n"
     ]
    }
   ],
   "source": [
    "##prinit valores y verificar q eta bien:\n",
    "print(len(PDFBytes))\n",
    "print(len(docs_pdf))\n",
    "print(len(PDFBytes[42]))"
   ]
  },
  {
   "cell_type": "code",
   "execution_count": 30,
   "metadata": {},
   "outputs": [],
   "source": [
    "#PDFBytes[42][0]"
   ]
  },
  {
   "cell_type": "markdown",
   "metadata": {},
   "source": [
    "__3. ENVIAR A AWS__"
   ]
  },
  {
   "cell_type": "code",
   "execution_count": 28,
   "metadata": {},
   "outputs": [],
   "source": [
    "import boto3 \n",
    "from botocore.config import Config\n",
    "\n",
    "my_config = Config(\n",
    "    region_name = 'us-west-2',\n",
    "    signature_version = 'v4',\n",
    "    retries = {\n",
    "        'max_attempts': 10,\n",
    "        'mode': 'standard'\n",
    "    }\n",
    ")\n",
    "\n",
    "\n",
    "s3_connection = boto3.resource('s3')\n",
    "# Amazon Textract client\n",
    "textract = boto3.client('textract', config=my_config)\n"
   ]
  },
  {
   "cell_type": "code",
   "execution_count": 31,
   "metadata": {},
   "outputs": [],
   "source": [
    "# Call Amazon Textract\n",
    "\n",
    "def Read_pdf_AWS(PDF_Bytes):\n",
    "    responses_pdf = []\n",
    "    for pdf in range(len(PDF_Bytes)):\n",
    "        response_page = []\n",
    "        for page_pdf in range(len(PDF_Bytes[pdf])):\n",
    "            response = textract.analyze_document(Document={'Bytes': PDF_Bytes[pdf][page_pdf]}, FeatureTypes=[\"TABLES\",\"FORMS\"])\n",
    "            response_page.append(response)\n",
    "        responses_pdf.append(response_page)\n",
    "    ###retorno\n",
    "    return responses_pdf\n"
   ]
  },
  {
   "cell_type": "code",
   "execution_count": 85,
   "metadata": {},
   "outputs": [
    {
     "name": "stdout",
     "output_type": "stream",
     "text": [
      "Wall time: 8min 39s\n"
     ]
    }
   ],
   "source": [
    "%%time \n",
    "\n",
    "final_responses = Read_pdf_AWS(PDF_Bytes=PDFBytes)"
   ]
  },
  {
   "cell_type": "code",
   "execution_count": 87,
   "metadata": {},
   "outputs": [
    {
     "data": {
      "text/plain": [
       "50"
      ]
     },
     "execution_count": 87,
     "metadata": {},
     "output_type": "execute_result"
    }
   ],
   "source": [
    "len(final_responses)"
   ]
  },
  {
   "cell_type": "code",
   "execution_count": 89,
   "metadata": {},
   "outputs": [],
   "source": [
    "#guardar el response\n",
    "import pickle\n",
    "f = open(\"ejemplos_estados_financieros/primeros_bbva5.pkl\",\"wb\")\n",
    "pickle.dump(final_responses,f)\n",
    "f.close()"
   ]
  },
  {
   "cell_type": "code",
   "execution_count": 38,
   "metadata": {},
   "outputs": [
    {
     "data": {
      "text/plain": [
       "2"
      ]
     },
     "execution_count": 38,
     "metadata": {},
     "output_type": "execute_result"
    }
   ],
   "source": [
    "len(final_responses[0])"
   ]
  },
  {
   "cell_type": "markdown",
   "metadata": {},
   "source": [
    "CARGAR EL RESPONSE"
   ]
  },
  {
   "cell_type": "code",
   "execution_count": 420,
   "metadata": {},
   "outputs": [],
   "source": [
    "import pickle\n",
    "\n",
    "final_responses = pickle.load( open(\"ejemplos_estados_financieros/primeros_bbva5.pkl\", \"rb\" ) )"
   ]
  },
  {
   "cell_type": "code",
   "execution_count": 421,
   "metadata": {},
   "outputs": [
    {
     "data": {
      "text/plain": [
       "50"
      ]
     },
     "execution_count": 421,
     "metadata": {},
     "output_type": "execute_result"
    }
   ],
   "source": [
    "len(final_responses)"
   ]
  },
  {
   "cell_type": "markdown",
   "metadata": {},
   "source": [
    "__EXTRAER EL TEXTO__"
   ]
  },
  {
   "cell_type": "code",
   "execution_count": 422,
   "metadata": {},
   "outputs": [],
   "source": [
    "\n",
    "#lee segun las lineas\n",
    "\n",
    "def PDF_Extraer_Texto(PDF_RESPONSE):\n",
    "    ## recorre pdf ###\n",
    "    PDF_texto = []\n",
    "    for pdf in range(len(PDF_RESPONSE)):\n",
    "        PAGE_texto = []\n",
    "        for page  in range(len(PDF_RESPONSE[pdf])):\n",
    "            ## recorre paginas ##\n",
    "            response = PDF_RESPONSE[pdf][page]\n",
    "            text_ini = ''\n",
    "            for ii in range(len(response[\"Blocks\"])):\n",
    "                if response[\"Blocks\"][ii][\"BlockType\"] ==\"LINE\":\n",
    "                    text_ini = text_ini + ' ' +  response[\"Blocks\"][ii][\"Text\"] + ' '  \n",
    "                \n",
    "            #----------------#\n",
    "            #----------------#\n",
    "            PAGE_texto.append(text_ini)\n",
    "        PDF_texto.append(PAGE_texto)\n",
    "    return PDF_texto\n",
    "    "
   ]
  },
  {
   "cell_type": "code",
   "execution_count": 423,
   "metadata": {},
   "outputs": [
    {
     "name": "stdout",
     "output_type": "stream",
     "text": [
      "Wall time: 28.4 ms\n"
     ]
    }
   ],
   "source": [
    "%%time\n",
    "TEXTO_PDFS = PDF_Extraer_Texto(final_responses)"
   ]
  },
  {
   "cell_type": "code",
   "execution_count": null,
   "metadata": {},
   "outputs": [],
   "source": []
  },
  {
   "cell_type": "code",
   "execution_count": 110,
   "metadata": {},
   "outputs": [],
   "source": [
    "#print(TEXTO_PDFS[21][0])"
   ]
  },
  {
   "cell_type": "markdown",
   "metadata": {},
   "source": [
    "__EXTRAER TABLA__"
   ]
  },
  {
   "cell_type": "code",
   "execution_count": 424,
   "metadata": {},
   "outputs": [],
   "source": [
    "from trp import Document\n",
    "import pandas as pd\n",
    "import numpy as np\n",
    "\n",
    "#---------------------------------------------#\n",
    "def tipe_documento(response):\n",
    "    #optimiza la lectura, detecta cuales son LINE\n",
    "    indice_line = []\n",
    "    for ii in range(len(response[\"Blocks\"])):\n",
    "         indice_line.append(response[\"Blocks\"][ii][\"BlockType\"])\n",
    "    return len(list(set(indice_line)))\n",
    "\n",
    "#---------------------------------------------#\n",
    "def Retorna_tabla(response):\n",
    "    doc = Document(response)\n",
    "    Final_table = []\n",
    "    cell_text = []\n",
    "    for page in doc.pages:\n",
    "         # Print tables\n",
    "        for table in page.tables:\n",
    "            #definicio de filas\n",
    "            rows = len(table.rows)\n",
    "            #definicion de columnas\n",
    "            cols = len(table.rows[0].cells)\n",
    "            #creación de tabla\n",
    "            tabla_doc = pd.DataFrame(index=np.arange(cols), columns=np.arange(rows))\n",
    "            #lectura de tabla\n",
    "            for r, row in enumerate(table.rows):\n",
    "                for c, cell in enumerate(row.cells):\n",
    "                    tabla_doc[r][c] = cell.text\n",
    "                    cell_text.append(cell_text)\n",
    "            #Concatenar las tablas del doc\n",
    "            Final_table.append(tabla_doc.transpose())\n",
    "    return Final_table, cell_text\n",
    "#---------------------------------------------#\n",
    "def TABLAS_pdf(PDF_RESPONSE):\n",
    "    ## recorre pdf ###\n",
    "    PDF_tablas = []\n",
    "    for pdf in range(len(PDF_RESPONSE)):\n",
    "        #print('DOCUMENTO :' + str(pdf) + '>' + docs_pdf[pdf])\n",
    "        PAGE_tabla = []\n",
    "        for page  in range(len(PDF_RESPONSE[pdf])):\n",
    "            #print('PAGINA: ' + str(page))\n",
    "            ## recorre paginas ##\n",
    "            response_page = PDF_RESPONSE[pdf][page]\n",
    "            long_page = tipe_documento(response_page)\n",
    "            if  long_page > 1:\n",
    "                tabla_pdf, text_cell = Retorna_tabla(response=response_page)\n",
    "                PAGE_tabla.append(tabla_pdf)\n",
    "        PDF_tablas.append(PAGE_tabla)\n",
    "    return PDF_tablas\n",
    "\n"
   ]
  },
  {
   "cell_type": "code",
   "execution_count": 425,
   "metadata": {},
   "outputs": [
    {
     "name": "stdout",
     "output_type": "stream",
     "text": [
      "Wall time: 4.51 s\n"
     ]
    }
   ],
   "source": [
    "%%time\n",
    "\n",
    "PDF_TABLAS = TABLAS_pdf(final_responses)\n"
   ]
  },
  {
   "cell_type": "code",
   "execution_count": 239,
   "metadata": {},
   "outputs": [
    {
     "name": "stdout",
     "output_type": "stream",
     "text": [
      "3\n",
      "2\n",
      "2\n",
      "1\n"
     ]
    }
   ],
   "source": [
    "pdf = 41\n",
    "page = 1\n",
    "print(len(final_responses[pdf]))\n",
    "print(len(PDF_TABLAS[41]))\n",
    "print(len(PDF_TABLAS[41][0]))\n",
    "print(len(PDF_TABLAS[41][1]))\n",
    "\n",
    "#PDF_TABLAS[pdf][page][0]"
   ]
  },
  {
   "cell_type": "markdown",
   "metadata": {},
   "source": [
    "__4. ELIMINAR INFORMACION DE TEXTO__"
   ]
  },
  {
   "cell_type": "code",
   "execution_count": 414,
   "metadata": {},
   "outputs": [],
   "source": [
    "import numpy as np\n",
    "import re\n",
    "\n",
    "def TEXTO_FINAL(PDF_TABLAS, TEXTO_PDFS):\n",
    "    TEXTO_DOCS = []\n",
    "    for pdf in range(len(PDF_TABLAS)):\n",
    "        TEXTO_PAGES = []\n",
    "        #print('___document___ ' + str(pdf))\n",
    "        for page in range(len(PDF_TABLAS[pdf])):\n",
    "            TEXTO_FINAL = TEXTO_PDFS[pdf][page]\n",
    "            texto_tabla  = []\n",
    "            for table in range(len(PDF_TABLAS[pdf][page])):\n",
    "                lista_text = PDF_TABLAS[pdf][page][table].values\n",
    "                text_cell = list(set(np.concatenate( lista_text, axis=0 ).tolist()))\n",
    "                if '' in text_cell:\n",
    "                    text_cell.remove('')\n",
    "                texto_tabla.append(text_cell)\n",
    "            #print('page___ ' + str(page))\n",
    "            texto_tabla = list(set(np.concatenate(texto_tabla)))\n",
    "            regex_text = '|'.join(texto_tabla)\n",
    "            regex_text = re.sub('\\(|\\)','', regex_text)\n",
    "            regex_text = re.sub('\\+','', regex_text)\n",
    "            regex_text = re.sub('\\-','', regex_text)\n",
    "            regex_text = re.sub('\\[|\\]','', regex_text)\n",
    "            regex_text = re.sub('\\$','', regex_text)\n",
    "            regex_text = re.sub('\\.','', regex_text)\n",
    "            regex_text = re.sub('\\| ','', regex_text)\n",
    "    \n",
    "            \n",
    "            TEXTO_FINAL= re.sub('\\(|\\)','', TEXTO_FINAL)\n",
    "            TEXTO_FINAL= re.sub('\\+','', TEXTO_FINAL)\n",
    "            TEXTO_FINAL= re.sub('\\-','', TEXTO_FINAL)\n",
    "            TEXTO_FINAL= re.sub('\\[|\\]','', TEXTO_FINAL)\n",
    "            TEXTO_FINAL= re.sub('\\| ','', TEXTO_FINAL)\n",
    "            TEXTO_FINAL= re.sub('\\$','', TEXTO_FINAL)\n",
    "            TEXTO_FINAL= re.sub('\\.','', TEXTO_FINAL)\n",
    "\n",
    "            TEXTO_FINAL = re.sub(regex_text, '', TEXTO_FINAL)\n",
    "            TEXTO_FINAL = ' '.join(TEXTO_FINAL.split())\n",
    "            TEXTO_PAGES.append(TEXTO_FINAL)\n",
    "            #print(regex_text)\n",
    "            #print('>>>>>>>>>>>>>>>>>')\n",
    "            #print(TEXTO_FINAL)\n",
    "\n",
    "        TEXTO_DOCS.append(TEXTO_PAGES)\n",
    "    return TEXTO_DOCS\n"
   ]
  },
  {
   "cell_type": "code",
   "execution_count": 415,
   "metadata": {},
   "outputs": [],
   "source": [
    "Textos_libres = TEXTO_FINAL(PDF_TABLAS, TEXTO_PDFS)"
   ]
  },
  {
   "cell_type": "code",
   "execution_count": null,
   "metadata": {},
   "outputs": [],
   "source": []
  },
  {
   "cell_type": "code",
   "execution_count": null,
   "metadata": {},
   "outputs": [],
   "source": []
  },
  {
   "cell_type": "code",
   "execution_count": null,
   "metadata": {},
   "outputs": [],
   "source": []
  }
 ],
 "metadata": {
  "kernelspec": {
   "display_name": "Python 3",
   "language": "python",
   "name": "python3"
  },
  "language_info": {
   "codemirror_mode": {
    "name": "ipython",
    "version": 3
   },
   "file_extension": ".py",
   "mimetype": "text/x-python",
   "name": "python",
   "nbconvert_exporter": "python",
   "pygments_lexer": "ipython3",
   "version": "3.8.6"
  }
 },
 "nbformat": 4,
 "nbformat_minor": 4
}
