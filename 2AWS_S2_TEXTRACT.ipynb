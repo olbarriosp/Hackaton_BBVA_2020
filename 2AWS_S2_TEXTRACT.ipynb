{
 "cells": [
  {
   "cell_type": "markdown",
   "metadata": {},
   "source": [
    "## __SOLUCION AWS CON BUCKET__\n",
    "\n",
    "1) subi documentacion s3buket\n",
    "\n",
    "2) texttrac conectar\n",
    "\n",
    "3) eliminar documento del bucket"
   ]
  },
  {
   "cell_type": "markdown",
   "metadata": {},
   "source": [
    "__CREAR DOCUMENTO S3BUCKET__"
   ]
  },
  {
   "cell_type": "code",
   "execution_count": 1,
   "metadata": {},
   "outputs": [
    {
     "name": "stdout",
     "output_type": "stream",
     "text": [
      "elasticbeanstalk-us-east-2-911499329769\n",
      "textract-console-us-east-2-a297ace1-84df-4e82-9c0e-20034e07410b\n"
     ]
    }
   ],
   "source": [
    "import boto3\n",
    "s3 = boto3.resource('s3')\n",
    "\n",
    "# Print out bucket names\n",
    "for bucket in s3.buckets.all():\n",
    "    print(bucket.name)"
   ]
  },
  {
   "cell_type": "code",
   "execution_count": 6,
   "metadata": {},
   "outputs": [],
   "source": [
    "import glob\n",
    "\n",
    "docs_pdf =  glob.glob('../Info para entregar/*.pdf')  #glob.glob(\"i/*.pdf\")"
   ]
  },
  {
   "cell_type": "code",
   "execution_count": 7,
   "metadata": {},
   "outputs": [
    {
     "data": {
      "text/plain": [
       "50"
      ]
     },
     "execution_count": 7,
     "metadata": {},
     "output_type": "execute_result"
    }
   ],
   "source": [
    "len(docs_pdf)"
   ]
  },
  {
   "cell_type": "markdown",
   "metadata": {},
   "source": [
    "__SUBIR DOCUMENTOS__"
   ]
  },
  {
   "cell_type": "code",
   "execution_count": 8,
   "metadata": {},
   "outputs": [],
   "source": [
    "import PyPDF2 \n",
    "\n",
    "s3BucketName = 'textract-console-us-east-2-a297ace1-84df-4e82-9c0e-20034e07410b'\n",
    "\n",
    "def PUT_BUCKET_DOCUMENTS(pdf_list):\n",
    "    for pdf in range(len(pdf_list)):\n",
    "        pdfFileObj = open(pdf_list[pdf], 'rb') \n",
    "        #subir bucket\n",
    "        s3.Bucket(s3BucketName).put_object(Key= 'ejemplo_' +str(pdf) + '.pdf', Body = pdfFileObj )\n",
    "    return 'all ready 1)'\n"
   ]
  },
  {
   "cell_type": "code",
   "execution_count": 9,
   "metadata": {},
   "outputs": [
    {
     "data": {
      "text/plain": [
       "'all ready 1)'"
      ]
     },
     "execution_count": 9,
     "metadata": {},
     "output_type": "execute_result"
    }
   ],
   "source": [
    "PUT_BUCKET_DOCUMENTS(docs_pdf[4:8])"
   ]
  },
  {
   "cell_type": "markdown",
   "metadata": {},
   "source": [
    "__TEXTRACT AWS__"
   ]
  },
  {
   "cell_type": "code",
   "execution_count": 10,
   "metadata": {},
   "outputs": [
    {
     "ename": "InvalidS3ObjectException",
     "evalue": "An error occurred (InvalidS3ObjectException) when calling the AnalyzeDocument operation: Unable to get object metadata from S3. Check object key, region and/or access permissions.",
     "output_type": "error",
     "traceback": [
      "\u001b[1;31m---------------------------------------------------------------------------\u001b[0m",
      "\u001b[1;31mInvalidS3ObjectException\u001b[0m                  Traceback (most recent call last)",
      "\u001b[1;32m<ipython-input-10-821668404c3a>\u001b[0m in \u001b[0;36m<module>\u001b[1;34m\u001b[0m\n\u001b[0;32m      9\u001b[0m \u001b[1;33m\u001b[0m\u001b[0m\n\u001b[0;32m     10\u001b[0m \u001b[1;31m# Call Amazon Textract\u001b[0m\u001b[1;33m\u001b[0m\u001b[1;33m\u001b[0m\u001b[1;33m\u001b[0m\u001b[0m\n\u001b[1;32m---> 11\u001b[1;33m response = textract.analyze_document(\n\u001b[0m\u001b[0;32m     12\u001b[0m     Document={\n\u001b[0;32m     13\u001b[0m         'S3Object': {\n",
      "\u001b[1;32mc:\\users\\oluci\\appdata\\local\\programs\\python\\python38\\lib\\site-packages\\botocore\\client.py\u001b[0m in \u001b[0;36m_api_call\u001b[1;34m(self, *args, **kwargs)\u001b[0m\n\u001b[0;32m    355\u001b[0m                     \"%s() only accepts keyword arguments.\" % py_operation_name)\n\u001b[0;32m    356\u001b[0m             \u001b[1;31m# The \"self\" in this scope is referring to the BaseClient.\u001b[0m\u001b[1;33m\u001b[0m\u001b[1;33m\u001b[0m\u001b[1;33m\u001b[0m\u001b[0m\n\u001b[1;32m--> 357\u001b[1;33m             \u001b[1;32mreturn\u001b[0m \u001b[0mself\u001b[0m\u001b[1;33m.\u001b[0m\u001b[0m_make_api_call\u001b[0m\u001b[1;33m(\u001b[0m\u001b[0moperation_name\u001b[0m\u001b[1;33m,\u001b[0m \u001b[0mkwargs\u001b[0m\u001b[1;33m)\u001b[0m\u001b[1;33m\u001b[0m\u001b[1;33m\u001b[0m\u001b[0m\n\u001b[0m\u001b[0;32m    358\u001b[0m \u001b[1;33m\u001b[0m\u001b[0m\n\u001b[0;32m    359\u001b[0m         \u001b[0m_api_call\u001b[0m\u001b[1;33m.\u001b[0m\u001b[0m__name__\u001b[0m \u001b[1;33m=\u001b[0m \u001b[0mstr\u001b[0m\u001b[1;33m(\u001b[0m\u001b[0mpy_operation_name\u001b[0m\u001b[1;33m)\u001b[0m\u001b[1;33m\u001b[0m\u001b[1;33m\u001b[0m\u001b[0m\n",
      "\u001b[1;32mc:\\users\\oluci\\appdata\\local\\programs\\python\\python38\\lib\\site-packages\\botocore\\client.py\u001b[0m in \u001b[0;36m_make_api_call\u001b[1;34m(self, operation_name, api_params)\u001b[0m\n\u001b[0;32m    674\u001b[0m             \u001b[0merror_code\u001b[0m \u001b[1;33m=\u001b[0m \u001b[0mparsed_response\u001b[0m\u001b[1;33m.\u001b[0m\u001b[0mget\u001b[0m\u001b[1;33m(\u001b[0m\u001b[1;34m\"Error\"\u001b[0m\u001b[1;33m,\u001b[0m \u001b[1;33m{\u001b[0m\u001b[1;33m}\u001b[0m\u001b[1;33m)\u001b[0m\u001b[1;33m.\u001b[0m\u001b[0mget\u001b[0m\u001b[1;33m(\u001b[0m\u001b[1;34m\"Code\"\u001b[0m\u001b[1;33m)\u001b[0m\u001b[1;33m\u001b[0m\u001b[1;33m\u001b[0m\u001b[0m\n\u001b[0;32m    675\u001b[0m             \u001b[0merror_class\u001b[0m \u001b[1;33m=\u001b[0m \u001b[0mself\u001b[0m\u001b[1;33m.\u001b[0m\u001b[0mexceptions\u001b[0m\u001b[1;33m.\u001b[0m\u001b[0mfrom_code\u001b[0m\u001b[1;33m(\u001b[0m\u001b[0merror_code\u001b[0m\u001b[1;33m)\u001b[0m\u001b[1;33m\u001b[0m\u001b[1;33m\u001b[0m\u001b[0m\n\u001b[1;32m--> 676\u001b[1;33m             \u001b[1;32mraise\u001b[0m \u001b[0merror_class\u001b[0m\u001b[1;33m(\u001b[0m\u001b[0mparsed_response\u001b[0m\u001b[1;33m,\u001b[0m \u001b[0moperation_name\u001b[0m\u001b[1;33m)\u001b[0m\u001b[1;33m\u001b[0m\u001b[1;33m\u001b[0m\u001b[0m\n\u001b[0m\u001b[0;32m    677\u001b[0m         \u001b[1;32melse\u001b[0m\u001b[1;33m:\u001b[0m\u001b[1;33m\u001b[0m\u001b[1;33m\u001b[0m\u001b[0m\n\u001b[0;32m    678\u001b[0m             \u001b[1;32mreturn\u001b[0m \u001b[0mparsed_response\u001b[0m\u001b[1;33m\u001b[0m\u001b[1;33m\u001b[0m\u001b[0m\n",
      "\u001b[1;31mInvalidS3ObjectException\u001b[0m: An error occurred (InvalidS3ObjectException) when calling the AnalyzeDocument operation: Unable to get object metadata from S3. Check object key, region and/or access permissions."
     ]
    }
   ],
   "source": [
    "import boto3 \n",
    "\n",
    "# Document\n",
    "s3BucketName = 'textract-console-us-east-2-a297ace1-84df-4e82-9c0e-20034e07410b'\n",
    "documentName = 'ejemplo_0.pdf'\n",
    "\n",
    "# Amazon Textract client\n",
    "textract = boto3.client('textract')\n",
    "\n",
    "# Call Amazon Textract\n",
    "response = textract.analyze_document(\n",
    "    Document={\n",
    "        'S3Object': {\n",
    "            'Bucket': s3BucketName,\n",
    "            'Name': documentName\n",
    "        }\n",
    "    },\n",
    "    FeatureTypes = [\"TABLES\",\"FORMS\"])\n"
   ]
  },
  {
   "cell_type": "markdown",
   "metadata": {},
   "source": [
    "__EXTRER EN TEXTO__"
   ]
  },
  {
   "cell_type": "code",
   "execution_count": null,
   "metadata": {},
   "outputs": [],
   "source": [
    "#optimiza la lectura, detecta cuales son LINE\n",
    "#indice_line = []\n",
    "#for ii in range(len(response[\"Blocks\"])):\n",
    "#    if response[\"Blocks\"][ii][\"BlockType\"] ==\"LINE\":\n",
    "#        indice_line.append(ii)\n",
    "        \n",
    "#lee segun las lineas\n",
    "\n",
    "def PDF_Extraer_Texto(PDF_RESPONSE):\n",
    "    ## recorre pdf ###\n",
    "    PDF_texto = []\n",
    "    for pdf in range(len(PDF_RESPONSE)):\n",
    "        PAGE_texto = []\n",
    "        for page  in range(len(PDF_RESPONSE[pdf])):\n",
    "            ## recorre paginas ##\n",
    "            response = PDF_RESPONSE[pdf][page]\n",
    "            text_ini = ''\n",
    "            for ii in range(len(response[\"Blocks\"])):\n",
    "                if response[\"Blocks\"][ii][\"BlockType\"] ==\"LINE\":\n",
    "                    text_ini = text_ini + '\\n' +  response[\"Blocks\"][ii][\"Text\"] + '\\n'  \n",
    "            PAGE_texto.append(text_ini)\n",
    "        PDF_texto.append(PAGE_texto)\n",
    "    return PDF_texto\n",
    "    "
   ]
  },
  {
   "cell_type": "code",
   "execution_count": null,
   "metadata": {},
   "outputs": [],
   "source": [
    "%%time\n",
    "TEXTO_PDFS = PDF_Extraer_Texto(final_responses)"
   ]
  },
  {
   "cell_type": "markdown",
   "metadata": {},
   "source": [
    "__EXTRAER TABLA__"
   ]
  },
  {
   "cell_type": "code",
   "execution_count": null,
   "metadata": {},
   "outputs": [],
   "source": [
    "from trp import Document\n",
    "import pandas as pd\n",
    "import numpy as np\n",
    "\n",
    "\n",
    "def Retorna_tabla(response):\n",
    "    \n",
    "    doc = Document(response)\n",
    "    #definicio de filas\n",
    "    rows = len(doc.pages[0].tables[0].rows)\n",
    "\n",
    "    #definicion de columnas\n",
    "    if len(doc.pages[0].tables[0].rows[0].cells) == len(doc.pages[0].tables[0].rows[rows-1].cells):\n",
    "        cols = len(doc.pages[0].tables[0].rows[rows-1].cells)\n",
    "    else:\n",
    "        cols = max(len(doc.pages[0].tables[0].rows[0].cells),len(doc.pages[0].tables[0].rows[rows-1].cells))\n",
    "\n",
    "    tabla_doc = pd.DataFrame(index=np.arange(cols), columns=np.arange(rows))\n",
    "\n",
    "    for page in doc.pages:\n",
    "         # Print tables\n",
    "        for table in page.tables:\n",
    "            for r, row in enumerate(table.rows):\n",
    "                for c, cell in enumerate(row.cells):\n",
    "                    tabla_doc[r][c] = doc.pages[0].tables[0].rows[r].cells[c].text\n",
    "                \n",
    "    return tabla_doc.transpose()"
   ]
  },
  {
   "cell_type": "code",
   "execution_count": null,
   "metadata": {},
   "outputs": [],
   "source": [
    "def TABLAS_pdf(PDF_RESPONSE):\n",
    "    ## recorre pdf ###\n",
    "    PDF_tablas = []\n",
    "    for pdf in range(len(PDF_RESPONSE)):\n",
    "        print(pdf)\n",
    "        PAGE_tabla = []\n",
    "        for page  in range(len(PDF_RESPONSE[pdf])):\n",
    "            ## recorre paginas ##\n",
    "            response_page = PDF_RESPONSE[pdf][page]\n",
    "            text_ini = Retorna_tabla(response=response_page)\n",
    "            PAGE_tabla.append(text_ini)\n",
    "        PDF_tablas.append(PAGE_tabla)\n",
    "    return PDF_tablas\n"
   ]
  },
  {
   "cell_type": "code",
   "execution_count": null,
   "metadata": {},
   "outputs": [],
   "source": [
    "len(final_responses)"
   ]
  },
  {
   "cell_type": "code",
   "execution_count": null,
   "metadata": {},
   "outputs": [],
   "source": [
    "%%time\n",
    "\n",
    "PDF_TABLAS = TABLAS_pdf(final_responses)"
   ]
  },
  {
   "cell_type": "code",
   "execution_count": null,
   "metadata": {},
   "outputs": [],
   "source": []
  },
  {
   "cell_type": "code",
   "execution_count": null,
   "metadata": {},
   "outputs": [],
   "source": []
  },
  {
   "cell_type": "markdown",
   "metadata": {},
   "source": [
    "__ELIMINAR DE LA NUBE__"
   ]
  },
  {
   "cell_type": "code",
   "execution_count": 10,
   "metadata": {},
   "outputs": [],
   "source": [
    "\n",
    "def DEL_BUCKET_DOCUMENTS(pdf_list):\n",
    "    for pdf in range(len(pdf_list)):\n",
    "        s3.Object(s3BucketName, 'ejemplo_' +str(pdf) + '.pdf' ).delete()\n",
    "    return 'all ready 4)'\n"
   ]
  },
  {
   "cell_type": "code",
   "execution_count": 11,
   "metadata": {},
   "outputs": [
    {
     "data": {
      "text/plain": [
       "'all ready 4)'"
      ]
     },
     "execution_count": 11,
     "metadata": {},
     "output_type": "execute_result"
    }
   ],
   "source": [
    "DEL_BUCKET_DOCUMENTS(docs_pdf[0:3])"
   ]
  }
 ],
 "metadata": {
  "kernelspec": {
   "display_name": "Python 3",
   "language": "python",
   "name": "python3"
  },
  "language_info": {
   "codemirror_mode": {
    "name": "ipython",
    "version": 3
   },
   "file_extension": ".py",
   "mimetype": "text/x-python",
   "name": "python",
   "nbconvert_exporter": "python",
   "pygments_lexer": "ipython3",
   "version": "3.8.6"
  }
 },
 "nbformat": 4,
 "nbformat_minor": 4
}
